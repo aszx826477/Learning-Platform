{
 "cells": [
  {
   "cell_type": "code",
   "execution_count": 1,
   "metadata": {},
   "outputs": [],
   "source": [
    "# import pyspark modules\n",
    "from pyspark import SparkContext\n",
    "sc = SparkContext()"
   ]
  },
  {
   "cell_type": "code",
   "execution_count": 2,
   "metadata": {},
   "outputs": [
    {
     "data": {
      "text/html": [
       "\n",
       "        <div>\n",
       "            <p><b>SparkContext</b></p>\n",
       "\n",
       "            <p><a href=\"http://192.168.122.151:4042\">Spark UI</a></p>\n",
       "\n",
       "            <dl>\n",
       "              <dt>Version</dt>\n",
       "                <dd><code>v2.4.4</code></dd>\n",
       "              <dt>Master</dt>\n",
       "                <dd><code>local[*]</code></dd>\n",
       "              <dt>AppName</dt>\n",
       "                <dd><code>pyspark-shell</code></dd>\n",
       "            </dl>\n",
       "        </div>\n",
       "        "
      ],
      "text/plain": [
       "<SparkContext master=local[*] appName=pyspark-shell>"
      ]
     },
     "execution_count": 2,
     "metadata": {},
     "output_type": "execute_result"
    }
   ],
   "source": [
    "sc"
   ]
  },
  {
   "cell_type": "code",
   "execution_count": 3,
   "metadata": {},
   "outputs": [
    {
     "name": "stdout",
     "output_type": "stream",
     "text": [
      "67\n"
     ]
    }
   ],
   "source": [
    "# Linear-time selection\n",
    "\n",
    "data = [34, 67, 21, 56, 47, 89, 12, 44, 74, 43, 26]\n",
    "# 12 21 26 34 43 44 47 56 67 74 89\n",
    "\n",
    "A = sc.parallelize(data,2) # slice = 2\n",
    "# print(A.collect()）\n",
    "k = 4 # find the element with index = 4 from small to big---> 43 (index begin from 0)\n",
    "\n",
    "while True:\n",
    "   \n",
    "    x = A.first()\n",
    "    \n",
    "    A1 = A.filter(lambda z: z < x)\n",
    "    A2 = A.filter(lambda z: z > x)\n",
    "    \n",
    "    mid = A1.count()\n",
    "    if mid == k:\n",
    "        print (x)\n",
    "        break\n",
    "    if k < mid:\n",
    "        A = A1\n",
    "    else:\n",
    "        A = A2\n",
    "        k = k - mid - 1\n",
    "    # A.cache()"
   ]
  },
  {
   "cell_type": "code",
   "execution_count": null,
   "metadata": {},
   "outputs": [],
   "source": [
    "# Import graphviz to draw digram\n",
    "from graphviz import Digraph"
   ]
  },
  {
   "cell_type": "markdown",
   "metadata": {},
   "source": [
    "要理解这个问题，首先要明白两个问题：\n",
    "* 继承（也叫依赖）\n",
    "* 重计算\n",
    "\n",
    "我们在编程中常认为`=`运算是赋值的意思，但在RDD中这里面除了赋值，还有一层继承的关系，何为**继承**呢？我们先看下面一个简单的例子：\n",
    "```\n",
    "data = [2, 5, 9, 7, 8, 1, 3, 4]\n",
    "x = 5\n",
    "A = sc.parallelize(data,2)\n",
    "A1 = A.filter(lambda z: z < x)\n",
    "A2 = A.filter(lambda z: z > x)\n",
    "```\n",
    "A可以认为是一个父结点，它是一个RDD对象，在代码第4,5行，我们使用赋值语句时，会创建两个新的RDD对象，并且构建如下图的依赖关系，我们可以说A1, A2是从父结点A继承而来的。\n",
    "```\n",
    "A = [2,5,9,7,8,1,3,4] ---- |--(小于5)--> A1 = [2,1,3,4]\n",
    "                           |--(大于5)--> A2 = [9,7,8]\n",
    "```\n",
    "\n",
    "我们再运行下面的语句，又会发生什么呢？\n",
    "```\n",
    "A = A2\n",
    "```\n",
    "如果按照我们以前编程的知识，是不是认为A只是被重新赋了值，即`A = [9,7,8]`。但在RDD中，这会新创建一个RDD对象，如下图所示：\n",
    "```\n",
    "A = [2,5,9,7,8,1,3,4] ----- |--(小于5)--> A1 = [2,1,3,4]\n",
    "                            |--(大于5)--> A2 = [9,7,8] --(等于)--> A = [9,7,8]\n",
    "```\n",
    "\n",
    "如果我们再运行下面的代码，取出A中的第一个元素，这时会发生什么呢？这就要涉及到**重计算**的概念了。\n",
    "```\n",
    "x = A.first()\n",
    "```\n",
    "因为我们并没有运行`A.cache()`或`A.persist()`将A持久化，这就会导致在执行完`A.first()`得到`x = 9`后，还会按照上面的依赖关系从头到尾再计算一遍。由于`x`值的改变，会导致A1,A2发生变化，A1是小于9的集合，而A2变成了空集，进而导致A也变成了空集，但是最开始的那个父结点A并不受影响，虽然都是A但是是两个不同的RDD对象。\n",
    "```\n",
    "A = [2,5,9,7,8,1,3,4] ---- |--(小于9)--> A1 = [2,5,7,8,1,3,4]\n",
    "                           |--(大于9)--> A2 = [] --(等于)--> A = []\n",
    "```\n",
    "我们回到真正的问题上，为什么不用`A.cache()`会导致最终的输出是`x=67`，我们画出在第一次循环执行完的RDD-依赖链式关系图：\n",
    "```\n",
    "A = [34,67,21,56,47,89,12,44,74,43,26] ---- |--(小于34)--> A1 = [21,12,26]\n",
    "                                            |--(大于34)--> A2 = [67,56,47,89,44,74,43] \n",
    "                                                           |--(等于)--> A = [67,56,47,89,44,74,43]\n",
    "```\n",
    "由于没有运行`A.cache()`在第二次循环执行`A.first()`语句得到`x = 67`后，Spark在后面偷偷摸摸地重新计算，也就是\n",
    "```\n",
    "A = [34,67,21,56,47,89,12,44,74,43,26] ---- |--(小于67)--> A1 = [34,21,56,47,12,44,43,26]\n",
    "                                            |--(大于67)--> A2 = [89,74] \n",
    "                                                           |--(等于)--> A = [89,74]\n",
    "```\n",
    "这时候运行下面的代码\n",
    "```\n",
    "A1 = A.filter(lambda z: z < x)\n",
    "A2 = A.filter(lambda z: z > x)\n",
    "```\n",
    "会继续延展依赖关系，即\n",
    "```\n",
    "A = [34,67,21,56,47,89,12,44,74,43,26] ---- |--(小于67)--> A1 = [34,21,56,47,12,44,43,26]\n",
    "                                            |--(大于67)--> A2 = [89,74] \n",
    "                                                           |--(等于)--> A = [89,74]\n",
    "                                                                        |--(小于67)--> A1 = []\n",
    "                                                                        |--(大于67)--> A2 = [89,74] \n",
    "                                                                                     |--(等于)--> A = [89,74]\n",
    "```\n",
    "这时的`mid = A1.count()`应该会得到`0`等于k，所以输出`x = 67`"
   ]
  },
  {
   "cell_type": "code",
   "execution_count": 21,
   "metadata": {},
   "outputs": [
    {
     "data": {
      "image/svg+xml": [
       "<?xml version=\"1.0\" encoding=\"UTF-8\" standalone=\"no\"?>\n",
       "<!DOCTYPE svg PUBLIC \"-//W3C//DTD SVG 1.1//EN\"\n",
       " \"http://www.w3.org/Graphics/SVG/1.1/DTD/svg11.dtd\">\n",
       "<!-- Generated by graphviz version 2.40.1 (20161225.0304)\n",
       " -->\n",
       "<!-- Title: %3 Pages: 1 -->\n",
       "<svg width=\"208pt\" height=\"116pt\"\n",
       " viewBox=\"0.00 0.00 208.00 116.00\" xmlns=\"http://www.w3.org/2000/svg\" xmlns:xlink=\"http://www.w3.org/1999/xlink\">\n",
       "<g id=\"graph0\" class=\"graph\" transform=\"scale(1 1) rotate(0) translate(4 112)\">\n",
       "<title>%3</title>\n",
       "<polygon fill=\"#ffffff\" stroke=\"transparent\" points=\"-4,4 -4,-112 204,-112 204,4 -4,4\"/>\n",
       "<!-- A -->\n",
       "<g id=\"node1\" class=\"node\">\n",
       "<title>A</title>\n",
       "<polygon fill=\"none\" stroke=\"#000000\" points=\"167.5,-108 36.5,-108 36.5,-72 167.5,-72 167.5,-108\"/>\n",
       "<text text-anchor=\"middle\" x=\"102\" y=\"-86.3\" font-family=\"Times,serif\" font-size=\"14.00\" fill=\"#000000\">A = [2,5,9,7,8,1,3,4]</text>\n",
       "</g>\n",
       "<!-- B -->\n",
       "<g id=\"node2\" class=\"node\">\n",
       "<title>B</title>\n",
       "<polygon fill=\"none\" stroke=\"#000000\" points=\"96,-36 0,-36 0,0 96,0 96,-36\"/>\n",
       "<text text-anchor=\"middle\" x=\"48\" y=\"-14.3\" font-family=\"Times,serif\" font-size=\"14.00\" fill=\"#000000\">A1 = [2,1,3,4]</text>\n",
       "</g>\n",
       "<!-- A&#45;&gt;B -->\n",
       "<g id=\"edge1\" class=\"edge\">\n",
       "<title>A&#45;&gt;B</title>\n",
       "<path fill=\"none\" stroke=\"#000000\" d=\"M88.3735,-71.8314C82.154,-63.5386 74.6678,-53.557 67.84,-44.4533\"/>\n",
       "<polygon fill=\"#000000\" stroke=\"#000000\" points=\"70.61,-42.3133 61.81,-36.4133 65.01,-46.5133 70.61,-42.3133\"/>\n",
       "</g>\n",
       "<!-- C -->\n",
       "<g id=\"node3\" class=\"node\">\n",
       "<title>C</title>\n",
       "<polygon fill=\"none\" stroke=\"#000000\" points=\"200,-36 114,-36 114,0 200,0 200,-36\"/>\n",
       "<text text-anchor=\"middle\" x=\"157\" y=\"-14.3\" font-family=\"Times,serif\" font-size=\"14.00\" fill=\"#000000\">A2 = [9,7,8]</text>\n",
       "</g>\n",
       "<!-- A&#45;&gt;C -->\n",
       "<g id=\"edge2\" class=\"edge\">\n",
       "<title>A&#45;&gt;C</title>\n",
       "<path fill=\"none\" stroke=\"#000000\" d=\"M115.8788,-71.8314C122.2136,-63.5386 129.8384,-53.557 136.7926,-44.4533\"/>\n",
       "<polygon fill=\"#000000\" stroke=\"#000000\" points=\"139.6452,-46.4847 142.9343,-36.4133 134.0825,-42.2353 139.6452,-46.4847\"/>\n",
       "</g>\n",
       "</g>\n",
       "</svg>\n"
      ],
      "text/plain": [
       "<graphviz.dot.Digraph at 0x7f97acfd3e48>"
      ]
     },
     "execution_count": 21,
     "metadata": {},
     "output_type": "execute_result"
    }
   ],
   "source": [
    "lineage = Digraph(name='Lineage',, node_attr={'shape': 'box'})\n",
    "\n",
    "\n",
    "lineage.node('A', 'A = [2,5,9,7,8,1,3,4]')\n",
    "lineage.node('B', 'A1 = [2,1,3,4]')\n",
    "lineage.node('C', 'A2 = [9,7,8]')\n",
    "lineage.edges(['AB', 'AC'])\n",
    "lineage"
   ]
  }
 ],
 "metadata": {
  "kernelspec": {
   "display_name": "Python 3",
   "language": "python",
   "name": "python3"
  },
  "language_info": {
   "codemirror_mode": {
    "name": "ipython",
    "version": 3
   },
   "file_extension": ".py",
   "mimetype": "text/x-python",
   "name": "python",
   "nbconvert_exporter": "python",
   "pygments_lexer": "ipython3",
   "version": "3.6.8"
  }
 },
 "nbformat": 4,
 "nbformat_minor": 2
}
