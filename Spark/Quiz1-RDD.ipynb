{
 "cells": [
  {
   "cell_type": "code",
   "execution_count": 0,
   "metadata": {},
   "outputs": [],
   "source": [
    "from pyspark import SparkContext\n",
    "sc = SparkContext()\n",
    "sc"
   ]
  },
  {
   "cell_type": "code",
   "execution_count": 0,
   "metadata": {},
   "outputs": [],
   "source": [
    "# Find the most frequent word. Output this word and its frequency.\n",
    "from operator import add\n",
    "lines = sc.textFile('data/README.md')\n",
    "counts = lines.flatMap(lambda x: x.split()) \\\n",
    "              .map(lambda x: (x, 1)) \\\n",
    "              .reduceByKey(add)\n",
    "\n",
    "# Solution 1:\n",
    "counts.sortBy(lambda x: x[1], ascending=False).first()\n",
    "\n",
    "# Solution 2:\n",
    "# counts.max(lambda x: x[1])"
   ]
  },
  {
   "cell_type": "code",
   "execution_count": 3,
   "metadata": {},
   "outputs": [
    {
     "name": "stdout",
     "output_type": "stream",
     "text": [
      "[('Apache', 1), ('Spark', 16), ('provides', 1), ('high-level', 1), ('Scala,', 1), ('Java,', 1), ('optimized', 1), ('engine', 1), ('supports', 2), ('computation', 1)]\n"
     ]
    }
   ],
   "source": [
    "# Count the frequencies of those words consisting of 5 or more characters\n",
    "from operator import add\n",
    "lines = sc.textFile('README.md')\n",
    "counts = lines.flatMap(lambda x: x.split()) \\\n",
    "              .filter(lambda z: len(z) >= 5) \\\n",
    "              .map(lambda x: (x, 1)) \\\n",
    "              .reduceByKey(add)\n",
    "print(counts.take(10))"
   ]
  },
  {
   "cell_type": "code",
   "execution_count": 4,
   "metadata": {},
   "outputs": [
    {
     "name": "stdout",
     "output_type": "stream",
     "text": [
      "49\n",
      "0\n"
     ]
    }
   ],
   "source": [
    "# What's its output?\n",
    "A = sc.parallelize(range(1, 100))\n",
    "t = 50\n",
    "B = A.filter(lambda x: x < t)\n",
    "print (B.count())\n",
    "t = 10\n",
    "C = B.filter(lambda x: x > t)\n",
    "print (C.count())\n",
    "# Because B hasn't do cache(), it need to re-compute from parent A"
   ]
  },
  {
   "cell_type": "code",
   "execution_count": 5,
   "metadata": {},
   "outputs": [
    {
     "name": "stdout",
     "output_type": "stream",
     "text": [
      "49\n",
      "39\n"
     ]
    }
   ],
   "source": [
    "# Fix the bug\n",
    "A = sc.parallelize(range(1, 100))\n",
    "t = 50\n",
    "B = A.filter(lambda x: x < t)\n",
    "print (B.count())\n",
    "B.cache()\n",
    "t = 10\n",
    "C = B.filter(lambda x: x > t)\n",
    "print (C.count())"
   ]
  },
  {
   "cell_type": "code",
   "execution_count": 6,
   "metadata": {},
   "outputs": [
    {
     "data": {
      "text/plain": [
       "[(14.41018838546462, ('magna', 'carta')),\n",
       " (13.071365888694997, ('polish-lithuanian', 'Commonwealth')),\n",
       " (12.990597616733414, ('nitrous', 'oxide')),\n",
       " (12.64972604311254, ('latter-day', 'Saints')),\n",
       " (12.50658937509916, ('stainless', 'steel')),\n",
       " (12.482331020687814, ('pave', 'runway')),\n",
       " (12.19140721768055, ('corporal', 'punishment')),\n",
       " (12.183248694293388, ('capital', 'punishment')),\n",
       " (12.147015483562537, ('rush', 'yard')),\n",
       " (12.109945794428935, ('globular', 'cluster'))]"
      ]
     },
     "execution_count": 6,
     "metadata": {},
     "output_type": "execute_result"
    }
   ],
   "source": [
    "# Modify the PMI example by sending a_dict and n_dict inside the closure. Do not use broadcast variables.\n",
    "from math import *\n",
    "\n",
    "lines = sc.textFile('data/adj_noun_pairs.txt')\n",
    "\n",
    "# Converting lines into word pairs. \n",
    "# Data is dirty: some lines have more than 2 words, so filter them out.\n",
    "pairs = lines.map(lambda l: tuple(l.split())).filter(lambda p: len(p)==2)\n",
    "pairs.cache()\n",
    "N = pairs.count()\n",
    "\n",
    "# Compute the frequency of each pair.\n",
    "# Ignore pairs that not frequent enough\n",
    "pair_freqs = pairs.map(lambda p: (p,1)).reduceByKey(lambda f1, f2: f1 + f2) \\\n",
    "                  .filter(lambda pf: pf[1] >= 100)\n",
    "\n",
    "# Computing the frequencies of the adjectives and the nouns\n",
    "a_freqs = pairs.map(lambda p: (p[0],1)).reduceByKey(lambda x,y: x+y)\n",
    "n_freqs = pairs.map(lambda p: (p[1],1)).reduceByKey(lambda x,y: x+y)\n",
    "\n",
    "# Make a_dict and n_dict\n",
    "a_dict = a_freqs.collectAsMap()\n",
    "n_dict = n_freqs.collectAsMap()\n",
    "\n",
    "# Computing the PMI for a pair.\n",
    "def pmi_score(pair_freq, a_dict, n_dict):\n",
    "    w1, w2 = pair_freq[0]\n",
    "    f = pair_freq[1]\n",
    "    pmi = log(float(f)*N/(a_dict[w1]*n_dict[w2]), 2)\n",
    "    return pmi, (w1, w2)\n",
    "\n",
    "# Note:\n",
    "# Before broadcasting, a_dict and n_dict are <class 'dict'>\n",
    "# After broadcasting, a_dict and n_dict are <class 'pyspark.broadcast.Broadcast'>\n",
    "   \n",
    "# Don't using broadcast variables way\n",
    "# Computing the PMI for all pairs. Using lamdba to pass a_dict and n_dict into function pmi_score.\n",
    "scored_pairs = pair_freqs.map(lambda x: pmi_score(x, a_dict, n_dict))\n",
    "\n",
    "# Show the top 10 samples\n",
    "scored_pairs.top(10)"
   ]
  },
  {
   "cell_type": "code",
   "execution_count": 18,
   "metadata": {},
   "outputs": [
    {
     "name": "stdout",
     "output_type": "stream",
     "text": [
      "[0, 1, 2, 3, 4, 5, 6, 7, 8, 9, 10, 11, 12, 13, 14, 15, 16, 17, 18, 19, 20, 21, 22, 23, 24, 26, 27, 28, 29, 30, 31, 32, 33, 34, 35, 36, 37, 38, 39, 40, 41, 42, 43, 44, 45, 46, 47, 48, 49, 50, 52, 53, 54, 55, 56, 57, 58, 59, 60, 61, 62, 63, 64, 65, 66, 67, 68, 69, 70, 71, 72, 73, 74, 75, 76, 78, 79, 80, 81, 82, 83, 84, 85, 86, 87, 88, 89, 90, 91, 92, 93, 94, 95, 96, 97, 98, 99, 100, 101, 102]\n"
     ]
    }
   ],
   "source": [
    "# For each item in the RDD, add its partition number to it, and write the results to another RDD\n",
    "A = sc.parallelize(range(100), 4)\n",
    "def add_index(index, part):\n",
    "    for i in part:\n",
    "        i += index\n",
    "        yield i\n",
    "B = A.mapPartitionsWithIndex(add_index)\n",
    "\n",
    "# print(A.mapPartitionsWithIndex(add_index).collect())\n",
    "print (B.collect())\n",
    "    "
   ]
  }
 ],
 "metadata": {
  "kernelspec": {
   "display_name": "Python 3",
   "language": "python",
   "name": "python3"
  },
  "language_info": {
   "codemirror_mode": {
    "name": "ipython",
    "version": 3
   },
   "file_extension": ".py",
   "mimetype": "text/x-python",
   "name": "python",
   "nbconvert_exporter": "python",
   "pygments_lexer": "ipython3",
   "version": "3.6.8"
  }
 },
 "nbformat": 4,
 "nbformat_minor": 2
}