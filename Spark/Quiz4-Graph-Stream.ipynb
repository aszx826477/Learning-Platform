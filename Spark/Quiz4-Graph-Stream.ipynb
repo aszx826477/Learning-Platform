{
 "nbformat": 4,
 "nbformat_minor": 2,
 "metadata": {
  "language_info": {
   "name": "python",
   "codemirror_mode": {
    "name": "ipython",
    "version": 3
   },
   "version": "3.7.3"
  },
  "orig_nbformat": 2,
  "file_extension": ".py",
  "mimetype": "text/x-python",
  "name": "python",
  "npconvert_exporter": "python",
  "pygments_lexer": "ipython3",
  "version": 3
 },
 "cells": [
  {
   "cell_type": "markdown",
   "execution_count": null,
   "metadata": {},
   "outputs": [],
   "source": [
    "# Quizz4"
   ]
  },
  {
   "cell_type": "code",
   "execution_count": 1,
   "metadata": {},
   "outputs": [
    {
     "data": {
      "text/html": "\n            <div>\n                <p><b>SparkSession - in-memory</b></p>\n                \n        <div>\n            <p><b>SparkContext</b></p>\n\n            <p><a href=\"http://DESKTOP-UCGP8OJ:4040\">Spark UI</a></p>\n\n            <dl>\n              <dt>Version</dt>\n                <dd><code>v2.4.4</code></dd>\n              <dt>Master</dt>\n                <dd><code>local[*]</code></dd>\n              <dt>AppName</dt>\n                <dd><code>pyspark-shell</code></dd>\n            </dl>\n        </div>\n        \n            </div>\n        ",
      "text/plain": "<pyspark.sql.session.SparkSession at 0x2427237e6d8>"
     },
     "execution_count": 1,
     "metadata": {},
     "output_type": "execute_result"
    }
   ],
   "source": [
    "from pyspark import SparkContext\n",
    "sc = SparkContext()\n",
    "sc.addPyFile(\"graphframes-0.7.0-spark2.4-s_2.11.jar\")\n",
    "\n",
    "from graphframes import *\n",
    "from pyspark.sql.functions import *\n",
    "from pyspark.sql import SparkSession\n",
    "\n",
    "spark = SparkSession \\\n",
    "    .builder \\\n",
    "    .getOrCreate()\n",
    "spark"
   ]
  },
  {
   "cell_type": "markdown",
   "execution_count": null,
   "metadata": {},
   "outputs": [],
   "source": [
    "## Question 1"
   ]
  },
  {
   "cell_type": "code",
   "execution_count": 2,
   "metadata": {},
   "outputs": [
    {
     "name": "stdout",
     "output_type": "stream",
     "text": "+---+-------+---+\n| id|   name|age|\n+---+-------+---+\n|  a|  Alice| 34|\n|  b|    Bob| 36|\n|  c|Charlie| 37|\n|  d|  David| 29|\n|  e| Esther| 32|\n|  f|  Fanny| 38|\n|  g|  Gabby| 60|\n+---+-------+---+\n\n+---+---+------------+\n|src|dst|relationship|\n+---+---+------------+\n|  a|  b|      friend|\n|  b|  c|      follow|\n|  c|  b|      follow|\n|  f|  c|      follow|\n|  e|  f|      follow|\n|  e|  d|      friend|\n|  d|  a|      friend|\n|  a|  e|      friend|\n|  g|  e|      follow|\n+---+---+------------+\n\n"
    }
   ],
   "source": [
    "# Vertics DataFrame\n",
    "v = spark.createDataFrame([\n",
    "  (\"a\", \"Alice\", 34),\n",
    "  (\"b\", \"Bob\", 36),\n",
    "  (\"c\", \"Charlie\", 37),\n",
    "  (\"d\", \"David\", 29),\n",
    "  (\"e\", \"Esther\", 32),\n",
    "  (\"f\", \"Fanny\", 38),\n",
    "  (\"g\", \"Gabby\", 60)\n",
    "], [\"id\", \"name\", \"age\"])\n",
    "\n",
    "# Edges DataFrame\n",
    "e = spark.createDataFrame([\n",
    "  (\"a\", \"b\", \"friend\"),\n",
    "  (\"b\", \"c\", \"follow\"),\n",
    "  (\"c\", \"b\", \"follow\"),\n",
    "  (\"f\", \"c\", \"follow\"),\n",
    "  (\"e\", \"f\", \"follow\"),\n",
    "  (\"e\", \"d\", \"friend\"),\n",
    "  (\"d\", \"a\", \"friend\"),\n",
    "  (\"a\", \"e\", \"friend\"),\n",
    "  (\"g\", \"e\", \"follow\")\n",
    "], [\"src\", \"dst\", \"relationship\"])\n",
    "\n",
    "# Create a GraphFrame\n",
    "g = GraphFrame(v, e)\n",
    "\n",
    "g.vertices.show()\n",
    "g.edges.show()"
   ]
  },
  {
   "cell_type": "code",
   "execution_count": 3,
   "metadata": {},
   "outputs": [
    {
     "name": "stdout",
     "output_type": "stream",
     "text": "+--------------+---------------+----------------+\n|             a|              b|               c|\n+--------------+---------------+----------------+\n|[a, Alice, 34]|[e, Esther, 32]|  [f, Fanny, 38]|\n|[a, Alice, 34]|[e, Esther, 32]|  [d, David, 29]|\n|[a, Alice, 34]|   [b, Bob, 36]|[c, Charlie, 37]|\n+--------------+---------------+----------------+\n\n"
    }
   ],
   "source": [
    "Alice_two_hop = g.find(\"(a)-[]->(b); (b)-[]->(c)\") \\\n",
    "                 .filter(\"a.name = 'Alice'\")\n",
    "Alice_two_hop.show()"
   ]
  },
  {
   "cell_type": "code",
   "execution_count": 4,
   "metadata": {},
   "outputs": [
    {
     "name": "stdout",
     "output_type": "stream",
     "text": "+-------+\n|   name|\n+-------+\n|  Fanny|\n|  David|\n|Charlie|\n+-------+\n\n"
    }
   ],
   "source": [
    "Alice_two_hop.select(\"c.name\") \\\n",
    "             .show()"
   ]
  },
  {
   "cell_type": "code",
   "execution_count": 5,
   "metadata": {},
   "outputs": [
    {
     "name": "stdout",
     "output_type": "stream",
     "text": "+-------+\n|   name|\n+-------+\n|  Fanny|\n|  David|\n|Charlie|\n+-------+\n\n"
    }
   ],
   "source": [
    "# Answer Sheet\n",
    "Alice_two_hop = g.find(\"(a)-[]->(b); (b)-[]->(c)\").filter(\"a.name = 'Alice'\")\n",
    "Alice_two_hop.select(\"c.name\").show()"
   ]
  },
  {
   "cell_type": "markdown",
   "execution_count": null,
   "metadata": {},
   "outputs": [],
   "source": [
    "## Question 2"
   ]
  },
  {
   "cell_type": "code",
   "execution_count": 6,
   "metadata": {},
   "outputs": [
    {
     "name": "stdout",
     "output_type": "stream",
     "text": "+--------------+---------------+--------------+\n|             a|              b|             c|\n+--------------+---------------+--------------+\n|[a, Alice, 34]|[e, Esther, 32]|[d, David, 29]|\n+--------------+---------------+--------------+\n\n"
    }
   ],
   "source": [
    "Alice_two_hop_back = g.find(\"(a)-[]->(b); (b)-[]->(c); (c)-[]->(a)\") \\\n",
    "                      .filter(\"a.name = 'Alice'\")\n",
    "Alice_two_hop_back.show()"
   ]
  },
  {
   "cell_type": "code",
   "execution_count": 7,
   "metadata": {},
   "outputs": [
    {
     "name": "stdout",
     "output_type": "stream",
     "text": "+-----+\n| name|\n+-----+\n|David|\n+-----+\n\n"
    }
   ],
   "source": [
    "Alice_two_hop_back.select(\"c.name\") \\\n",
    "                  .show()"
   ]
  },
  {
   "cell_type": "code",
   "execution_count": 8,
   "metadata": {},
   "outputs": [
    {
     "name": "stdout",
     "output_type": "stream",
     "text": "+-----+\n| name|\n+-----+\n|David|\n+-----+\n\n"
    }
   ],
   "source": [
    "# Answer Sheet\n",
    "\n",
    "Alice_two_hop_back = g.find(\"(a)-[]->(b); (b)-[]->(c); (c)-[]->(a)\").filter(\"a.name = 'Alice'\")\n",
    "Alice_two_hop_back.select('c.name').show()"
   ]
  },
  {
   "cell_type": "markdown",
   "execution_count": null,
   "metadata": {},
   "outputs": [],
   "source": [
    "## Question 3"
   ]
  },
  {
   "cell_type": "code",
   "execution_count": 9,
   "metadata": {},
   "outputs": [
    {
     "name": "stdout",
     "output_type": "stream",
     "text": "+--------------+--------------+----------------+\n|             a|             e|               b|\n+--------------+--------------+----------------+\n|[f, Fanny, 38]|[f, c, follow]|[c, Charlie, 37]|\n|  [b, Bob, 36]|[b, c, follow]|[c, Charlie, 37]|\n+--------------+--------------+----------------+\n\n"
    }
   ],
   "source": [
    "who_follow_Charie = g.find(\"(a)-[e]->(b)\") \\\n",
    "                     .filter(\"b.name = 'Charlie' AND e.relationship = 'follow'\")\n",
    "who_follow_Charie.show()          "
   ]
  },
  {
   "cell_type": "code",
   "execution_count": 10,
   "metadata": {},
   "outputs": [
    {
     "name": "stdout",
     "output_type": "stream",
     "text": "+-----+\n| name|\n+-----+\n|Fanny|\n|  Bob|\n+-----+\n\n"
    }
   ],
   "source": [
    "who_follow_Charie.select(\"a.name\") \\\n",
    "                 .show()"
   ]
  },
  {
   "cell_type": "code",
   "execution_count": 11,
   "metadata": {},
   "outputs": [
    {
     "name": "stdout",
     "output_type": "stream",
     "text": "+-----+\n| name|\n+-----+\n|Fanny|\n|  Bob|\n+-----+\n\n"
    }
   ],
   "source": [
    "# Answer Sheet\n",
    "who_follow_Charie = g.find(\"(a)-[e]->(b)\") \\\n",
    "                     .filter(\"b.name = 'Charlie' AND e.relationship = 'follow'\")\n",
    "who_follow_Charie.select(\"a.name\").show()"
   ]
  },
  {
   "cell_type": "markdown",
   "execution_count": null,
   "metadata": {},
   "outputs": [],
   "source": [
    "## Question 4"
   ]
  },
  {
   "cell_type": "code",
   "execution_count": 4,
   "metadata": {},
   "outputs": [
    {
     "name": "stdout",
     "output_type": "stream",
     "text": "+---+-------+---+\n| id|   name|age|\n+---+-------+---+\n|  a|  Alice| 34|\n|  b|    Bob| 36|\n|  c|Charlie| 37|\n|  d|  David| 29|\n|  e| Esther| 32|\n|  f|  Fanny| 38|\n|  g|  Gabby| 60|\n+---+-------+---+\n\n+---+---+------------+\n|src|dst|relationship|\n+---+---+------------+\n|  b|  c|      follow|\n|  c|  b|      follow|\n|  f|  c|      follow|\n|  e|  f|      follow|\n|  g|  e|      follow|\n+---+---+------------+\n\n"
    }
   ],
   "source": [
    "e2 = g.edges.filter(\"relationship = 'follow'\")\n",
    "g2 = GraphFrame(v, e2)\n",
    "g2.vertices.show()\n",
    "g2.edges.show()"
   ]
  },
  {
   "cell_type": "code",
   "execution_count": 15,
   "metadata": {},
   "outputs": [
    {
     "name": "stdout",
     "output_type": "stream",
     "text": "+-------+\n|   name|\n+-------+\n| Esther|\n|Charlie|\n|    Bob|\n+-------+\n\n"
    }
   ],
   "source": [
    "g2.vertices.join(g.inDegrees, 'id', 'left_outer') \\\n",
    "          .where(\"inDegree >= 2\") \\\n",
    "          .select(\"name\") \\\n",
    "          .show()"
   ]
  },
  {
   "cell_type": "code",
   "execution_count": 14,
   "metadata": {},
   "outputs": [
    {
     "name": "stdout",
     "output_type": "stream",
     "text": "+-------+\n|   name|\n+-------+\n| Esther|\n|Charlie|\n|    Bob|\n+-------+\n\n"
    }
   ],
   "source": [
    "# Answer Sheet\n",
    "e2 = g.edges.filter(\"relationship = 'follow'\")\n",
    "g2 = GraphFrame(v, e2)\n",
    "g2.vertices.join(g2.inDegrees, 'id', 'left_outer') \\\n",
    "           .where(\"inDegree >= 2\") \\\n",
    "           .select(\"name\") \\\n",
    "           .show()"
   ]
  },
  {
   "cell_type": "code",
   "execution_count": 5,
   "metadata": {},
   "outputs": [
    {
     "name": "stdout",
     "output_type": "stream",
     "text": "+-------+\n|   name|\n+-------+\n|Charlie|\n+-------+\n\n"
    }
   ],
   "source": [
    "# Answer Sheet\n",
    "e2 = g.edges.filter(\"relationship = 'follow'\")\n",
    "g2 = GraphFrame(v, e2)\n",
    "g2.vertices.join(g2.inDegrees, 'id', 'left_outer') \\\n",
    "           .where(\"inDegree >= 2\") \\\n",
    "           .select(\"name\") \\\n",
    "           .show()"
   ]
  },
  {
   "cell_type": "markdown",
   "execution_count": null,
   "metadata": {},
   "outputs": [],
   "source": [
    "## Question 5"
   ]
  },
  {
   "cell_type": "code",
   "execution_count": 2,
   "metadata": {},
   "outputs": [],
   "source": [
    "from pyspark.streaming import StreamingContext\n",
    "\n",
    "ssc = StreamingContext(sc, 5)\n",
    "# Provide a checkpointing directory. Required for stateful transformations\n",
    "ssc.checkpoint(\"checkpoint\")\n",
    "\n",
    "numPartitions = 8\n",
    "rdd = sc.textFile('data/adj_noun_pairs.txt', numPartitions)\n",
    "rddQueue = rdd.randomSplit([1]*10, 123)\n",
    "lines = ssc.queueStream(rddQueue)\n",
    "\n",
    "def updateFunc(newNoun, runningNoun):\n",
    "    if runningNoun is None:\n",
    "        return newNoun\n",
    "    elif len(newNoun) > len(runningNoun):\n",
    "        return newNoun\n",
    "    else:\n",
    "        return runningNoun\n",
    "\n",
    "pairs = lines.map(lambda l: tuple(l.split(\" \"))) \\\n",
    "             .filter(lambda p: len(p)==2) \\\n",
    "             .reduceByKey(lambda a, b: a if len(a) > len(b) else b) \\\n",
    "             .updateStateByKey(updateFunc)\n",
    "\n",
    "def printResults(rdd):\n",
    "    print (rdd.take(5))\n",
    "    print ('Longest noun associated with good:', rdd.lookup('good')[0])\n",
    "\n",
    "pairs.foreachRDD(printResults)"
   ]
  },
  {
   "cell_type": "code",
   "execution_count": 3,
   "metadata": {},
   "outputs": [
    {
     "name": "stdout",
     "output_type": "stream",
     "text": "Start\n[('social', ['constructionism']), ('coercive', ['deprogramming']), ('individual', ['meaninglessness']), ('political', ['self-determination']), ('desirable', ['characteristic'])]\nLongest noun associated with good: ['morning/afternoon']\n[('social', ['constructionism']), ('coercive', ['deprogramming']), ('individual', ['meaninglessness']), ('political', ['self-determination']), ('desirable', ['characteristic'])]\nLongest noun associated with good: ['morning/afternoon']\n[('social', ['constructionism']), ('coercive', ['deprogramming']), ('individual', ['meaninglessness']), ('political', ['self-determination']), ('desirable', ['characteristic'])]\nLongest noun associated with good: ['morning/afternoon']\n[('social', ['constructionism']), ('coercive', ['deprogramming']), ('individual', ['meaninglessness']), ('political', ['self-determination']), ('desirable', ['characteristic'])]\nLongest noun associated with good: ['morning/afternoon']\n[('social', ['constructionism']), ('coercive', ['deprogramming']), ('individual', ['meaninglessness']), ('political', ['self-determination']), ('desirable', ['characteristic'])]\n"
    }
   ],
   "source": [
    "ssc.start()\n",
    "print(\"Start\")\n",
    "ssc.awaitTermination(150)\n",
    "ssc.stop(False)\n",
    "print(\"Finished\")"
   ]
  },
  {
   "cell_type": "code",
   "execution_count": null,
   "metadata": {},
   "outputs": [],
   "source": [
    "# Answer Sheet\n",
    "from pyspark.streaming import StreamingContext\n",
    "\n",
    "ssc = StreamingContext(sc, 5)\n",
    "# Provide a checkpointing directory. Required for stateful transformations\n",
    "ssc.checkpoint(\"checkpoint\")\n",
    "\n",
    "numPartitions = 8\n",
    "rdd = sc.textFile('data/adj_noun_pairs.txt', numPartitions)\n",
    "rddQueue = rdd.randomSplit([1]*10, 123)\n",
    "lines = ssc.queueStream(rddQueue)\n",
    "\n",
    "def updateFunc(newNoun, runningNoun):\n",
    "    if runningNoun is None:\n",
    "        return newNoun\n",
    "    elif len(newNoun) > len(runningNoun):\n",
    "        return newNoun\n",
    "    else:\n",
    "        return runningNoun\n",
    "\n",
    "pairs = lines.map(lambda l: tuple(l.split(\" \"))) \\\n",
    "             .filter(lambda p: len(p)==2) \\\n",
    "             .reduceByKey(lambda a, b: a if len(a) > len(b) else b) \\\n",
    "             .updateStateByKey(updateFunc)\n",
    "\n",
    "def printResults(rdd):\n",
    "    print (rdd.take(5))\n",
    "    print ('Longest noun associated with good:', rdd.lookup('good')[0])\n",
    "\n",
    "pairs.foreachRDD(printResults)\n",
    "\n",
    "ssc.start()\n",
    "print(\"Start\")\n",
    "ssc.awaitTermination(150)\n",
    "ssc.stop(False)\n",
    "print(\"Finished\")"
   ]
  }
 ]
}