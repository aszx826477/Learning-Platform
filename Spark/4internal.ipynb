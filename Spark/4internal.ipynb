{
 "cells": [
  {
   "cell_type": "markdown",
   "metadata": {
    "collapsed": true
   },
   "source": [
    "### Finding Prime Numbers"
   ]
  },
  {
   "cell_type": "code",
   "execution_count": 1,
   "metadata": {},
   "outputs": [
    {
     "data": {
      "text/html": "\n        <div>\n            <p><b>SparkContext</b></p>\n\n            <p><a href=\"http://DESKTOP-UCGP8OJ:4041\">Spark UI</a></p>\n\n            <dl>\n              <dt>Version</dt>\n                <dd><code>v2.4.4</code></dd>\n              <dt>Master</dt>\n                <dd><code>local[*]</code></dd>\n              <dt>AppName</dt>\n                <dd><code>pyspark-shell</code></dd>\n            </dl>\n        </div>\n        ",
      "text/plain": "<SparkContext master=local[*] appName=pyspark-shell>"
     },
     "execution_count": 1,
     "metadata": {},
     "output_type": "execute_result"
    }
   ],
   "source": [
    "from pyspark import SparkContext\n",
    "sc = SparkContext()\n",
    "sc"
   ]
  },
  {
   "cell_type": "code",
   "execution_count": 6,
   "metadata": {
    "scrolled": false
   },
   "outputs": [
    {
     "name": "stdout",
     "output_type": "stream",
     "text": [
      "[17, 97, 113, 193, 241, 257, 337, 353, 401, 433]\n"
     ]
    }
   ],
   "source": [
    "n = 500000\n",
    "allnumbers = sc.parallelize(range(2, n), 8).cache()\n",
    "composite = allnumbers.flatMap(lambda x: range(x*2, n, x))\n",
    "# composite = allnumbers.flatMap(lambda x: range(x*2, n, x)).repartition(8) \n",
    "# This can rebalance the partition, improve the speed of last partition\n",
    "prime = allnumbers.subtract(composite)\n",
    "print (prime.take(10))"
   ]
  },
  {
   "cell_type": "code",
   "execution_count": 11,
   "metadata": {},
   "outputs": [
    {
     "name": "stdout",
     "output_type": "stream",
     "text": [
      "[62499, 62500, 62500, 62500, 62499, 62500, 62500, 62500]\n",
      "[5216986, 254759, 104166, 62499, 0, 0, 0, 0]\n",
      "[0, 5169, 1, 5219, 0, 5206, 0, 5189, 0, 5165, 0, 5199, 0, 5191, 0, 5199]\n",
      "[17, 97, 113, 193]\n"
     ]
    }
   ],
   "source": [
    "# Find the number of elements in each parttion\n",
    "def partitionsize(it): \n",
    "    #s = 0\n",
    "    #for i in it:\n",
    "    #    s += 1\n",
    "    #yield s\n",
    "    yield len(list(it)) # 这行代码等价于上面的代码\n",
    "\n",
    "print (allnumbers.mapPartitions(partitionsize).collect())\n",
    "print (composite.mapPartitions(partitionsize).collect())\n",
    "print (prime.mapPartitions(partitionsize).collect())\n",
    "print (prime.glom().collect()[1][0:4])"
   ]
  },
  {
   "cell_type": "markdown",
   "metadata": {},
   "source": [
    "### Data Partitioning"
   ]
  },
  {
   "cell_type": "code",
   "execution_count": 18,
   "metadata": {
    "scrolled": true
   },
   "outputs": [
    {
     "name": "stdout",
     "output_type": "stream",
     "text": [
      "None\n",
      "[[(8, 8)], [(96, 96), (240, 240)], [(400, 400)], [(1, 1), (800, 800)]]\n",
      "[[(8, 8), (96, 96), (240, 240), (400, 400), (800, 800)], [(1, 1)], [], []]\n",
      "<function portable_hash at 0x7f89705f3378>\n",
      "[[(8, 9), (96, 97), (240, 241), (400, 401), (800, 801)], [(1, 2)], [], []]\n",
      "<function portable_hash at 0x7f89705f3378>\n",
      "[[(1, 1), (8, 8)], [(96, 96), (240, 240)], [(400, 400)], [(800, 800)]]\n",
      "<function RDD.sortByKey.<locals>.rangePartitioner at 0x7f894c1d9c80>\n"
     ]
    }
   ],
   "source": [
    "data = [8, 96, 240, 400, 1, 800]\n",
    "rdd = sc.parallelize(zip(data, data),4)\n",
    "print (rdd.partitioner) # 虽然设置了partition = 4，但实际上却并没有partition\n",
    "print (rdd.glom().collect())\n",
    "\n",
    "rdd = rdd.reduceByKey(lambda x,y: x+y)\n",
    "print (rdd.glom().collect())\n",
    "print (rdd.partitioner.partitionFunc) # 使用reduceByKey后，居然partition了\n",
    "\n",
    "rdd1 = rdd.mapValues(lambda x: x+1)\n",
    "print (rdd1.glom().collect())\n",
    "print (rdd1.partitioner.partitionFunc)\n",
    "\n",
    "rdd = rdd.sortByKey() # 使用sortByKey后，不仅partition了，而且partition还是balance的\n",
    "print (rdd.glom().collect())\n",
    "print (rdd.partitioner.partitionFunc)"
   ]
  },
  {
   "cell_type": "code",
   "execution_count": 22,
   "metadata": {},
   "outputs": [
    {
     "name": "stdout",
     "output_type": "stream",
     "text": [
      "[625, 625, 625, 625, 625, 625, 625, 625]\n",
      "[2500, 0, 0, 0, 0, 0, 0, 0]\n",
      "[556, 278, 277, 278, 277, 278, 278, 278]\n",
      "[556, 278, 277, 278, 277, 278, 278, 278]\n"
     ]
    }
   ],
   "source": [
    "def partitionsize(it): yield len(list(it))\n",
    "    \n",
    "n = 40000\n",
    "\n",
    "def f(x):\n",
    "    return x % 9\n",
    "\n",
    "data1 = list(range(0, n, 16)) + list(range(0, n, 16))\n",
    "data2 = range(0, n, 8)\n",
    "rdd1 = sc.parallelize(zip(data1, data2), 8)\n",
    "print (rdd1.mapPartitions(partitionsize).collect())\n",
    "rdd2 = rdd1.reduceByKey(lambda x,y: x+y)\n",
    "print (rdd2.mapPartitions(partitionsize).collect())\n",
    "rdd3 = rdd2.partitionBy(8, f)\n",
    "print (rdd3.mapPartitions(partitionsize).collect())\n",
    "rdd4 = rdd1.reduceByKey(lambda x,y: x+y, partitionFunc=f)\n",
    "print (rdd4.mapPartitions(partitionsize).collect())"
   ]
  },
  {
   "cell_type": "code",
   "execution_count": 24,
   "metadata": {},
   "outputs": [
    {
     "name": "stdout",
     "output_type": "stream",
     "text": [
      "None\n",
      "<function portable_hash at 0x7f89705f3378>\n",
      "16\n",
      "<function portable_hash at 0x7f89705f3378>\n",
      "[(0, (0, 0)), (16, (16, 16)), (32, (32, 32)), (48, (48, 48))]\n"
     ]
    }
   ],
   "source": [
    "a = sc.parallelize(zip(range(10000), range(10000)), 8)\n",
    "b = sc.parallelize(zip(range(10000), range(10000)), 8)\n",
    "print (a.partitioner)\n",
    "a = a.reduceByKey(lambda x,y: x+y)\n",
    "print (a.partitioner.partitionFunc)\n",
    "b = b.reduceByKey(lambda x,y: x+y) # (1)\n",
    "c = a.join(b)  \n",
    "# 不需要shuffle operation，因为上一行代码b.reduceByKey(lambda x,y: x+y)\n",
    "# 会让spark认为出a和b是一样的\n",
    "print (c.getNumPartitions()) # 去掉(1)代码，结果为16；保留(1)，结果为8\n",
    "print (c.partitioner.partitionFunc)\n",
    "print (c.glom().first()[0:4])"
   ]
  },
  {
   "cell_type": "markdown",
   "metadata": {},
   "source": [
    "### Partitioning in DataFrames"
   ]
  },
  {
   "cell_type": "code",
   "execution_count": 26,
   "metadata": {},
   "outputs": [
    {
     "data": {
      "text/html": [
       "\n",
       "            <div>\n",
       "                <p><b>SparkSession - in-memory</b></p>\n",
       "                \n",
       "        <div>\n",
       "            <p><b>SparkContext</b></p>\n",
       "\n",
       "            <p><a href=\"http://192.168.122.153:4042\">Spark UI</a></p>\n",
       "\n",
       "            <dl>\n",
       "              <dt>Version</dt>\n",
       "                <dd><code>v2.4.4</code></dd>\n",
       "              <dt>Master</dt>\n",
       "                <dd><code>local[*]</code></dd>\n",
       "              <dt>AppName</dt>\n",
       "                <dd><code>pyspark-shell</code></dd>\n",
       "            </dl>\n",
       "        </div>\n",
       "        \n",
       "            </div>\n",
       "        "
      ],
      "text/plain": [
       "<pyspark.sql.session.SparkSession at 0x7f894bef8278>"
      ]
     },
     "execution_count": 26,
     "metadata": {},
     "output_type": "execute_result"
    }
   ],
   "source": [
    "from pyspark.sql import SparkSession\n",
    "\n",
    "spark = SparkSession \\\n",
    "    .builder \\\n",
    "    .appName(\"Python Spark SQL basic example\") \\\n",
    "    .config(\"spark.some.config.option\", \"some-value\") \\\n",
    "    .getOrCreate()\n",
    "spark"
   ]
  },
  {
   "cell_type": "code",
   "execution_count": 27,
   "metadata": {},
   "outputs": [
    {
     "name": "stdout",
     "output_type": "stream",
     "text": [
      "4\n",
      "[[Row(_1=1, _2=2), Row(_1=1, _2=2)], [Row(_1=1, _2=3), Row(_1=2, _2=4)], [Row(_1=2, _2=5), Row(_1=2, _2=3)], [Row(_1=3, _2=1), Row(_1=3, _2=1), Row(_1=3, _2=2), Row(_1=4, _2=3)]]\n"
     ]
    }
   ],
   "source": [
    "data1 = [1, 1, 1, 2, 2, 2, 3, 3, 3, 4]\n",
    "data2 = [2, 2, 3, 4, 5, 3, 1, 1, 2, 3]\n",
    "df = spark.createDataFrame(zip(data1, data2))\n",
    "print (df.rdd.getNumPartitions())\n",
    "print (df.rdd.glom().collect())"
   ]
  },
  {
   "cell_type": "code",
   "execution_count": 29,
   "metadata": {},
   "outputs": [
    {
     "name": "stdout",
     "output_type": "stream",
     "text": [
      "[[], [], [Row(_1=2, _2=4), Row(_1=2, _2=5), Row(_1=2, _2=3), Row(_1=4, _2=3)], [Row(_1=3, _2=1), Row(_1=3, _2=1), Row(_1=3, _2=2)], [], [Row(_1=1, _2=2), Row(_1=1, _2=2), Row(_1=1, _2=3)]]\n",
      "+---+---+\n",
      "| _1| _2|\n",
      "+---+---+\n",
      "|  2|  4|\n",
      "|  2|  5|\n",
      "|  2|  3|\n",
      "|  4|  3|\n",
      "|  3|  1|\n",
      "|  3|  1|\n",
      "|  3|  2|\n",
      "|  1|  2|\n",
      "|  1|  2|\n",
      "|  1|  3|\n",
      "+---+---+\n",
      "\n"
     ]
    }
   ],
   "source": [
    "df1 = df.repartition(6, df._1)\n",
    "print (df1.rdd.glom().collect())\n",
    "df1.show()"
   ]
  },
  {
   "cell_type": "code",
   "execution_count": 31,
   "metadata": {
    "scrolled": true
   },
   "outputs": [
    {
     "name": "stdout",
     "output_type": "stream",
     "text": [
      "+-------+--------+\n",
      "|waybill|customer|\n",
      "+-------+--------+\n",
      "|     26|      87|\n",
      "|     29|       9|\n",
      "|     26|      15|\n",
      "|    474|       6|\n",
      "|    474|      50|\n",
      "|    964|      77|\n",
      "|    558|      17|\n",
      "|    541|      11|\n",
      "|    558|       5|\n",
      "|     65|       3|\n",
      "|    270|       7|\n",
      "|    270|      95|\n",
      "|    270|      73|\n",
      "|    270|      87|\n",
      "|    730|      20|\n",
      "|    278|      91|\n",
      "|    705|      51|\n",
      "|    278|      32|\n",
      "|    278|       3|\n",
      "|     19|      78|\n",
      "+-------+--------+\n",
      "only showing top 20 rows\n",
      "\n",
      "1000\n",
      "+--------+-----+\n",
      "|customer|phone|\n",
      "+--------+-----+\n",
      "|       0|    0|\n",
      "|       1|    1|\n",
      "|       2|    2|\n",
      "|       3|    3|\n",
      "|       4|    4|\n",
      "|       5|    5|\n",
      "|       6|    6|\n",
      "|       7|    7|\n",
      "|       8|    8|\n",
      "|       9|    9|\n",
      "|      10|   10|\n",
      "|      11|   11|\n",
      "|      12|   12|\n",
      "|      13|   13|\n",
      "|      14|   14|\n",
      "|      15|   15|\n",
      "|      16|   16|\n",
      "|      17|   17|\n",
      "|      18|   18|\n",
      "|      19|   19|\n",
      "+--------+-----+\n",
      "only showing top 20 rows\n",
      "\n",
      "100\n",
      "+-------+------------+\n",
      "|waybill|max(version)|\n",
      "+-------+------------+\n",
      "|     26|           3|\n",
      "|     29|           7|\n",
      "|    474|           9|\n",
      "|    964|           1|\n",
      "|    558|           7|\n",
      "|     65|           4|\n",
      "|    541|           0|\n",
      "|    191|           5|\n",
      "|    418|           8|\n",
      "|    293|           6|\n",
      "|    270|           8|\n",
      "|    222|           6|\n",
      "|    442|           5|\n",
      "|    720|           4|\n",
      "|    243|           4|\n",
      "|    705|           8|\n",
      "|     19|           9|\n",
      "|    926|           5|\n",
      "|    348|           2|\n",
      "|    277|           2|\n",
      "+-------+------------+\n",
      "only showing top 20 rows\n",
      "\n",
      "625\n"
     ]
    }
   ],
   "source": [
    "# A 'real' example from SF Express\n",
    "# Prepare three relational tables\n",
    "\n",
    "from pyspark.sql.functions import *\n",
    "\n",
    "num_waybills = 1000\n",
    "num_customers = 100\n",
    "\n",
    "# floor向上取整\n",
    "rdd = sc.parallelize((i, ) for i in range(num_waybills))\n",
    "waybills = spark.createDataFrame(rdd).select(floor(rand()*num_waybills).alias('waybill'), \n",
    "                                             floor(rand()*num_customers).alias('customer')) \\\n",
    "                .repartition('waybill')\\\n",
    "                .cache()\n",
    "waybills.show()\n",
    "print (waybills.count())\n",
    "\n",
    "rdd = sc.parallelize((i, i) for i in range(num_customers))\n",
    "customers = spark.createDataFrame(rdd, ['customer', 'phone']).cache()\n",
    "customers.show()\n",
    "print (customers.count())\n",
    "\n",
    "rdd = sc.parallelize((i, ) for i in range(num_waybills))\n",
    "waybill_status = spark.createDataFrame(rdd).select(floor(rand()*num_waybills).alias('waybill'), \n",
    "                                                   floor(rand()*10).alias('version')) \\\n",
    "                      .groupBy('waybill').max('version').cache()\n",
    "waybill_status.show()\n",
    "print (waybill_status.count())"
   ]
  },
  {
   "cell_type": "code",
   "execution_count": 32,
   "metadata": {},
   "outputs": [
    {
     "name": "stdout",
     "output_type": "stream",
     "text": [
      "+-------+--------+-----+------------+\n",
      "|waybill|customer|phone|max(version)|\n",
      "+-------+--------+-----+------------+\n",
      "|     26|      87|   87|           3|\n",
      "|     29|       9|    9|           7|\n",
      "|     26|      15|   15|           3|\n",
      "|    474|       6|    6|           9|\n",
      "|    474|      50|   50|           9|\n",
      "|    964|      77|   77|           1|\n",
      "|    558|      17|   17|           7|\n",
      "|    541|      11|   11|           0|\n",
      "|    558|       5|    5|           7|\n",
      "|     65|       3|    3|           4|\n",
      "|    270|       7|    7|           8|\n",
      "|    270|      95|   95|           8|\n",
      "|    270|      73|   73|           8|\n",
      "|    270|      87|   87|           8|\n",
      "|    705|      51|   51|           8|\n",
      "|     19|      78|   78|           9|\n",
      "|    926|      28|   28|           5|\n",
      "|    926|      75|   75|           5|\n",
      "|    926|       3|    3|           5|\n",
      "|    926|      95|   95|           5|\n",
      "+-------+--------+-----+------------+\n",
      "only showing top 20 rows\n",
      "\n"
     ]
    }
   ],
   "source": [
    "# We want to join 3 tables together.\n",
    "# Knowing how each table is partitioned helps optimize the join order.\n",
    "\n",
    "waybills.join(customers, 'customer').join(waybill_status, 'waybill').show()\n",
    "# waybills.join(waybill_status, 'waybill').join(customers, 'customer').show()"
   ]
  },
  {
   "cell_type": "markdown",
   "metadata": {},
   "source": [
    "### Threading"
   ]
  },
  {
   "cell_type": "code",
   "execution_count": 36,
   "metadata": {},
   "outputs": [
    {
     "name": "stdout",
     "output_type": "stream",
     "text": [
      "Worker 3 reports: Pi is roughly 3.1420744\n",
      "Worker 2 reports: Pi is roughly 3.1421896\n",
      "Worker 0 reports: Pi is roughly 3.1422884\n",
      "Worker 1 reports: Pi is roughly 3.1422096\n",
      "Worker 4 reports: Pi is roughly 3.1416516\n"
     ]
    },
    {
     "data": {
      "text/plain": [
       "'\\nfor i in range(5):\\n    dojob(i)\\n'"
      ]
     },
     "execution_count": 36,
     "metadata": {},
     "output_type": "execute_result"
    }
   ],
   "source": [
    "import threading\n",
    "import random\n",
    "\n",
    "partitions = 20\n",
    "# partitions = 1 \n",
    "# 1----\n",
    "# 2----\n",
    "# 3----\n",
    "# 4----\n",
    "# 5----\n",
    "# partition = 20\n",
    "# 1----\n",
    "# 2----\n",
    "# 3---------\n",
    "# 4-----------\n",
    "# 5---------------\n",
    "# This is because 3,4,5 workers wait the 1,2 finishing their jobs and release the cores for computing\n",
    "\n",
    "n = 500000 * partitions\n",
    "\n",
    "# use different seeds in different threads and different partitions\n",
    "# a bit ugly, since mapPartitionsWithIndex takes a function with only index\n",
    "# and it as parameters\n",
    "def f1(index, it):\n",
    "    random.seed(index + 987231)\n",
    "    for i in it:\n",
    "        x = random.random() * 2 - 1\n",
    "        y = random.random() * 2 - 1\n",
    "        yield 1 if x ** 2 + y ** 2 < 1 else 0\n",
    "\n",
    "def f2(index, it):\n",
    "    random.seed(index + 987232)\n",
    "    for i in it:\n",
    "        x = random.random() * 2 - 1\n",
    "        y = random.random() * 2 - 1\n",
    "        yield 1 if x ** 2 + y ** 2 < 1 else 0\n",
    "\n",
    "def f3(index, it):\n",
    "    random.seed(index + 987233)\n",
    "    for i in it:\n",
    "        x = random.random() * 2 - 1\n",
    "        y = random.random() * 2 - 1\n",
    "        yield 1 if x ** 2 + y ** 2 < 1 else 0\n",
    "    \n",
    "def f4(index, it):\n",
    "    random.seed(index + 987234)\n",
    "    for i in it:\n",
    "        x = random.random() * 2 - 1\n",
    "        y = random.random() * 2 - 1\n",
    "        yield 1 if x ** 2 + y ** 2 < 1 else 0\n",
    "    \n",
    "def f5(index, it):\n",
    "    random.seed(index + 987245)\n",
    "    for i in it:\n",
    "        x = random.random() * 2 - 1\n",
    "        y = random.random() * 2 - 1\n",
    "        yield 1 if x ** 2 + y ** 2 < 1 else 0\n",
    "\n",
    "f = [f1, f2, f3, f4, f5]\n",
    "    \n",
    "# the function executed in each thread/job\n",
    "def dojob(i):\n",
    "    count = sc.parallelize(range(1, n + 1), partitions) \\\n",
    "              .mapPartitionsWithIndex(f[i]).reduce(lambda a,b: a+b)\n",
    "    print (\"Worker\", i, \"reports: Pi is roughly\", 4.0 * count / n)\n",
    "\n",
    "# create and execute the threads\n",
    "threads = []\n",
    "for i in range(5):\n",
    "    t = threading.Thread(target=dojob, args=(i,))\n",
    "    threads += [t]\n",
    "    t.start()\n",
    "\n",
    "# wait for all threads to complete\n",
    "for t in threads:\n",
    "    t.join()    \n",
    "'''\n",
    "for i in range(5):\n",
    "    dojob(i)\n",
    "'''"
   ]
  },
  {
   "cell_type": "code",
   "execution_count": null,
   "metadata": {},
   "outputs": [],
   "source": []
  },
  {
   "cell_type": "code",
   "execution_count": null,
   "metadata": {
    "collapsed": true
   },
   "outputs": [],
   "source": []
  }
 ],
 "metadata": {
  "kernelspec": {
   "display_name": "Python 3",
   "language": "python",
   "name": "python3"
  },
  "language_info": {
   "codemirror_mode": {
    "name": "ipython",
    "version": 3
   },
   "file_extension": ".py",
   "mimetype": "text/x-python",
   "name": "python",
   "nbconvert_exporter": "python",
   "pygments_lexer": "ipython3",
   "version": "3.6.8"
  }
 },
 "nbformat": 4,
 "nbformat_minor": 1
}