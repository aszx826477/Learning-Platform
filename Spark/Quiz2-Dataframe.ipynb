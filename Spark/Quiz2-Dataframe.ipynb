{
 "cells": [
  {
   "cell_type": "code",
   "execution_count": 1,
   "metadata": {},
   "outputs": [
    {
     "data": {
      "text/html": "\n        <div>\n            <p><b>SparkContext</b></p>\n\n            <p><a href=\"http://DESKTOP-UCGP8OJ:4040\">Spark UI</a></p>\n\n            <dl>\n              <dt>Version</dt>\n                <dd><code>v2.4.4</code></dd>\n              <dt>Master</dt>\n                <dd><code>local[*]</code></dd>\n              <dt>AppName</dt>\n                <dd><code>pyspark-shell</code></dd>\n            </dl>\n        </div>\n        ",
      "text/plain": "<SparkContext master=local[*] appName=pyspark-shell>"
     },
     "execution_count": 1,
     "metadata": {},
     "output_type": "execute_result"
    }
   ],
   "source": [
    "from pyspark import SparkContext\n",
    "sc = SparkContext()\n",
    "sc"
   ]
  },
  {
   "cell_type": "code",
   "execution_count": 2,
   "metadata": {},
   "outputs": [
    {
     "data": {
      "text/html": "\n            <div>\n                <p><b>SparkSession - in-memory</b></p>\n                \n        <div>\n            <p><b>SparkContext</b></p>\n\n            <p><a href=\"http://DESKTOP-UCGP8OJ:4040\">Spark UI</a></p>\n\n            <dl>\n              <dt>Version</dt>\n                <dd><code>v2.4.4</code></dd>\n              <dt>Master</dt>\n                <dd><code>local[*]</code></dd>\n              <dt>AppName</dt>\n                <dd><code>pyspark-shell</code></dd>\n            </dl>\n        </div>\n        \n            </div>\n        ",
      "text/plain": "<pyspark.sql.session.SparkSession at 0x205b24eb7b8>"
     },
     "execution_count": 2,
     "metadata": {},
     "output_type": "execute_result"
    }
   ],
   "source": [
    "from pyspark.sql import SparkSession\n",
    "\n",
    "spark = SparkSession \\\n",
    "    .builder \\\n",
    "    .appName(\"Python Spark SQL basic example\") \\\n",
    "    .config(\"spark.some.config.option\", \"some-value\") \\\n",
    "    .getOrCreate()\n",
    "spark"
   ]
  },
  {
   "cell_type": "code",
   "execution_count": 4,
   "metadata": {},
   "outputs": [],
   "source": [
    "df = spark.read.csv('data/sales.csv', header=True, inferSchema=True)"
   ]
  },
  {
   "cell_type": "code",
   "execution_count": 7,
   "metadata": {},
   "outputs": [
    {
     "name": "stdout",
     "output_type": "stream",
     "text": [
      "+----------------+--------+-----+------------+-----------------+--------------------+--------+--------------+----------------+----------------+-----------+----------+\n",
      "|Transaction_date| Product|Price|Payment_Type|             Name|                City|   State|       Country| Account_Created|      Last_Login|   Latitude| Longitude|\n",
      "+----------------+--------+-----+------------+-----------------+--------------------+--------+--------------+----------------+----------------+-----------+----------+\n",
      "| 01/02/2009 6:17|Product1| 1200|  Mastercard|         carolina|            Basildon| England|United Kingdom| 01/02/2009 6:00| 01/02/2009 6:08|       51.5|-1.1166667|\n",
      "| 01/02/2009 4:53|Product1| 1200|        Visa|           Betina|Parkville        ...|      MO| United States| 01/02/2009 4:42| 01/02/2009 7:49|     39.195| -94.68194|\n",
      "|01/02/2009 13:08|Product1| 1200|  Mastercard|Federica e Andrea|Astoria          ...|      OR| United States|01/01/2009 16:21|01/03/2009 12:32|   46.18806|   -123.83|\n",
      "|01/03/2009 14:44|Product1| 1200|        Visa|            Gouya|              Echuca|Victoria|     Australia|   9/25/05 21:13|01/03/2009 14:22|-36.1333333|    144.75|\n",
      "|01/04/2009 12:56|Product2| 3600|        Visa|          Gerd W |Cahaba Heights   ...|      AL| United States|  11/15/08 15:47|01/04/2009 12:45|   33.52056|  -86.8025|\n",
      "+----------------+--------+-----+------------+-----------------+--------------------+--------+--------------+----------------+----------------+-----------+----------+\n",
      "only showing top 5 rows\n",
      "\n"
     ]
    }
   ],
   "source": [
    "df.show(5)"
   ]
  },
  {
   "cell_type": "code",
   "execution_count": 8,
   "metadata": {},
   "outputs": [
    {
     "name": "stdout",
     "output_type": "stream",
     "text": [
      "+-------------+\n",
      "|      Country|\n",
      "+-------------+\n",
      "|       Sweden|\n",
      "|       Jersey|\n",
      "|     Malaysia|\n",
      "|       Turkey|\n",
      "|      Germany|\n",
      "|       France|\n",
      "|      Belgium|\n",
      "|      Finland|\n",
      "|United States|\n",
      "|        India|\n",
      "|       Kuwait|\n",
      "|        Malta|\n",
      "|        Italy|\n",
      "|       Norway|\n",
      "|        Spain|\n",
      "|      Denmark|\n",
      "|      Ireland|\n",
      "|       Israel|\n",
      "|      Iceland|\n",
      "|  South Korea|\n",
      "+-------------+\n",
      "only showing top 20 rows\n",
      "\n"
     ]
    }
   ],
   "source": [
    "df.select('Country').distinct().show()"
   ]
  },
  {
   "cell_type": "code",
   "execution_count": 12,
   "metadata": {},
   "outputs": [
    {
     "name": "stdout",
     "output_type": "stream",
     "text": [
      "+-------+-----+\n",
      "|   Name|Price|\n",
      "+-------+-----+\n",
      "|Joachim| 1200|\n",
      "|  Diana| 7500|\n",
      "+-------+-----+\n",
      "\n"
     ]
    }
   ],
   "source": [
    "df.filter(\"Country = 'Brazil'\").select('Name', 'Price').show()"
   ]
  },
  {
   "cell_type": "code",
   "execution_count": 14,
   "metadata": {},
   "outputs": [
    {
     "name": "stdout",
     "output_type": "stream",
     "text": [
      "+-------------+----------+\n",
      "|      Country|TotalPrice|\n",
      "+-------------+----------+\n",
      "|       Sweden|      8400|\n",
      "|       Jersey|      1200|\n",
      "|     Malaysia|      1200|\n",
      "|       Turkey|      2400|\n",
      "|      Germany|     22800|\n",
      "|       France|     30300|\n",
      "|      Belgium|      3600|\n",
      "|      Finland|      1200|\n",
      "|United States|    350350|\n",
      "|        India|      2400|\n",
      "|       Kuwait|      1200|\n",
      "|        Malta|      3600|\n",
      "|        Italy|      2400|\n",
      "|       Norway|     12000|\n",
      "|        Spain|      2400|\n",
      "|      Denmark|      8400|\n",
      "|      Ireland|     29100|\n",
      "|       Israel|      1200|\n",
      "|      Iceland|      1200|\n",
      "|  South Korea|      1200|\n",
      "+-------------+----------+\n",
      "only showing top 20 rows\n",
      "\n"
     ]
    }
   ],
   "source": [
    "df.groupBy('Country').sum('Price') \\\n",
    "  .withColumnRenamed('sum(Price)', 'TotalPrice') \\\n",
    "  .show()"
   ]
  },
  {
   "cell_type": "code",
   "execution_count": 23,
   "metadata": {},
   "outputs": [
    {
     "name": "stdout",
     "output_type": "stream",
     "text": [
      "+--------------------+----------+\n",
      "|             Country|TotalPrice|\n",
      "+--------------------+----------+\n",
      "|       United States|    350350|\n",
      "|      United Kingdom|     63600|\n",
      "|              Canada|     42000|\n",
      "|              France|     30300|\n",
      "|             Ireland|     29100|\n",
      "|             Germany|     22800|\n",
      "|           Australia|     22800|\n",
      "|         Switzerland|     19200|\n",
      "|         Netherlands|     14400|\n",
      "|              Norway|     12000|\n",
      "|              Brazil|      8700|\n",
      "|              Sweden|      8400|\n",
      "|             Denmark|      8400|\n",
      "|             Austria|      3600|\n",
      "|        South Africa|      3600|\n",
      "|United Arab Emirates|      3600|\n",
      "|             Belgium|      3600|\n",
      "|               Malta|      3600|\n",
      "|               India|      2400|\n",
      "|               Italy|      2400|\n",
      "+--------------------+----------+\n",
      "only showing top 20 rows\n",
      "\n"
     ]
    }
   ],
   "source": [
    "df.groupBy('Country').sum('Price') \\\n",
    "  .withColumnRenamed('sum(Price)', 'TotalPrice') \\\n",
    "  .orderBy('TotalPrice', ascending = False) \\\n",
    "  .show()"
   ]
  },
  {
   "cell_type": "code",
   "execution_count": 24,
   "metadata": {},
   "outputs": [],
   "source": [
    "df2 = spark.read.csv('data/countries.csv', header=True, inferSchema=True)"
   ]
  },
  {
   "cell_type": "code",
   "execution_count": 25,
   "metadata": {},
   "outputs": [
    {
     "name": "stdout",
     "output_type": "stream",
     "text": [
      "+--------------+---+\n",
      "|       Country| ID|\n",
      "+--------------+---+\n",
      "|United Kingdom|  1|\n",
      "| United States|  2|\n",
      "|     Australia|  3|\n",
      "|        Israel|  4|\n",
      "|        France|  5|\n",
      "+--------------+---+\n",
      "only showing top 5 rows\n",
      "\n"
     ]
    }
   ],
   "source": [
    "df2.show(5)"
   ]
  },
  {
   "cell_type": "code",
   "execution_count": 31,
   "metadata": {},
   "outputs": [
    {
     "name": "stdout",
     "output_type": "stream",
     "text": [
      "+-------------+----------+\n",
      "|      Country|sum(Price)|\n",
      "+-------------+----------+\n",
      "|       Sweden|      8400|\n",
      "|       Jersey|      1200|\n",
      "|     Malaysia|      1200|\n",
      "|       Turkey|      2400|\n",
      "|      Germany|     22800|\n",
      "|       France|     30300|\n",
      "|      Belgium|      3600|\n",
      "|      Finland|      1200|\n",
      "|United States|    350350|\n",
      "|        India|      2400|\n",
      "|       Kuwait|      1200|\n",
      "|        Malta|      3600|\n",
      "|        Italy|      2400|\n",
      "|       Norway|     12000|\n",
      "|        Spain|      2400|\n",
      "|      Denmark|      8400|\n",
      "|      Ireland|     29100|\n",
      "|       Israel|      1200|\n",
      "|      Iceland|      1200|\n",
      "|  South Korea|      1200|\n",
      "+-------------+----------+\n",
      "only showing top 20 rows\n",
      "\n"
     ]
    }
   ],
   "source": [
    "df2.join(df, 'Country').groupBy('Country').sum('Price').show()"
   ]
  },
  {
   "cell_type": "code",
   "execution_count": 33,
   "metadata": {},
   "outputs": [
    {
     "name": "stdout",
     "output_type": "stream",
     "text": [
      "+---+----------+\n",
      "| ID|TotalPrice|\n",
      "+---+----------+\n",
      "| 15|      8400|\n",
      "| 29|      1200|\n",
      "| 30|      1200|\n",
      "| 24|      2400|\n",
      "| 19|     22800|\n",
      "|  5|     30300|\n",
      "| 14|      3600|\n",
      "| 11|      1200|\n",
      "|  2|    350350|\n",
      "|  9|      2400|\n",
      "| 25|      1200|\n",
      "| 26|      3600|\n",
      "| 18|      2400|\n",
      "| 16|     12000|\n",
      "| 21|      2400|\n",
      "| 13|      8400|\n",
      "|  7|     29100|\n",
      "|  4|      1200|\n",
      "| 31|      1200|\n",
      "| 32|      1200|\n",
      "+---+----------+\n",
      "only showing top 20 rows\n",
      "\n"
     ]
    }
   ],
   "source": [
    "df.groupBy('Country').sum('Price') \\\n",
    "  .join(df2, 'Country') \\\n",
    "  .withColumnRenamed('sum(Price)', 'TotalPrice') \\\n",
    "  .select('ID', 'TotalPrice') \\\n",
    "  .show()\n",
    "\n",
    "\"\"\"\n",
    "df.join(df2, 'Country') \\\n",
    "  .groupBy('ID').sum('Price') \\\n",
    "  .withColumnRenamed('sum(ID)', 'TotalPrice') \\\n",
    "  .show()\n",
    "\"\"\""
   ]
  },
  {
   "cell_type": "code",
   "execution_count": 10,
   "metadata": {},
   "outputs": [
    {
     "name": "stdout",
     "output_type": "stream",
     "text": [
      "+---+---+\n",
      "|src|dst|\n",
      "+---+---+\n",
      "|  1|  2|\n",
      "|  1|  3|\n",
      "|  2|  3|\n",
      "|  3|  4|\n",
      "|  4|  1|\n",
      "|  2|  1|\n",
      "+---+---+\n",
      "\n",
      "+---+-------------------+\n",
      "|src|               rank|\n",
      "+---+-------------------+\n",
      "|  1| 0.5213734076219673|\n",
      "|  3| 0.3976558032555418|\n",
      "|  4|0.39765580325554173|\n",
      "|  2| 0.2739381988891164|\n",
      "+---+-------------------+\n",
      "\n"
     ]
    }
   ],
   "source": [
    "from pyspark.sql.functions import *\n",
    "\n",
    "numOfIterations = 10\n",
    "\n",
    "lines = spark.read.text(\"data/pagerank_data.txt\")\n",
    "# You can also test your program on the follow larger data set:\n",
    "# lines = spark.read.text(\"dblp.in\")\n",
    "\n",
    "a = lines.select(split(lines[0],' '))\n",
    "\n",
    "links = a.select(a[0][0].alias('src'), a[0][1].alias('dst'))\n",
    "links.show()\n",
    "outdegrees = links.groupBy('src').count()\n",
    "\n",
    "outdegrees = outdegrees.select('src', 'count')\n",
    "\n",
    "ranks = outdegrees.select('src', lit(1).alias('rank')) # lit(1)是初始化为1的意思\n",
    "\n",
    "# number of objects --> num = 4\n",
    "num = ranks.count()\n",
    "\n",
    "\"\"\"\n",
    "for iteration in range(numOfIterations):\n",
    "    ranks = links.join(outdegrees, 'src').join(ranks, 'src') \\\n",
    "             .select('*', (ranks['rank'] / outdegrees['count'] * 0.85 + 0.15 / num).alias('next_rank')) \\\n",
    "             .withColumnRenamed('dst','dst1').groupBy('dst1').sum('next_rank') \\\n",
    "             .withColumnRenamed('sum(next_rank)', 'rank').withColumnRenamed('dst1', 'src')\n",
    "\"\"\"\n",
    "\n",
    "for iteration in range(numOfIterations):\n",
    "    contribs = links.join(outdegrees, 'src').join(ranks, 'src') \\\n",
    "                    .select('*', (ranks['rank'] / outdegrees['count']).alias('contribs')) \\\n",
    "                    .withColumnRenamed('dst','dst1').groupBy('dst1').sum('contribs')\n",
    "    \n",
    "    ranks = contribs.select ('dst1', (contribs['sum(contribs)'] * 0.85 + 0.15 / num).alias('rank')) \\\n",
    "                    .withColumnRenamed('dst1', 'src')\n",
    "\"\"\"\n",
    "for iteration in range(numOfIterations):\n",
    "    ranks = links.join(outdegrees, 'src').join(ranks, 'src') \\\n",
    "             .select('*', (ranks['rank'] / outdegrees['count'] * 0.85 + 0.15 / num).alias('next_rank')) \\\n",
    "             .groupBy('dst').sum('next_rank') \\\n",
    "             .withColumnRenamed('sum(next_rank)', 'rank').withColumnRenamed('dst', 'src')\n",
    "\"\"\"\n",
    "    \n",
    "# 第三行有bug\n",
    "\n",
    "ranks.orderBy(desc('rank')).show()"
   ]
  }
 ],
 "metadata": {
  "kernelspec": {
   "display_name": "Python 3",
   "language": "python",
   "name": "python3"
  },
  "language_info": {
   "codemirror_mode": {
    "name": "ipython",
    "version": 3
   },
   "file_extension": ".py",
   "mimetype": "text/x-python",
   "name": "python",
   "nbconvert_exporter": "python",
   "pygments_lexer": "ipython3",
   "version": "3.6.8"
  }
 },
 "nbformat": 4,
 "nbformat_minor": 2
}